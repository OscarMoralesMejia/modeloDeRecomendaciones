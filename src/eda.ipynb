{
 "cells": [
  {
   "cell_type": "code",
   "execution_count": 5,
   "metadata": {},
   "outputs": [],
   "source": [
    "import pandas as pd\n",
    "import matplotlib.pyplot as plt\n",
    "import seaborn as sns"
   ]
  },
  {
   "cell_type": "code",
   "execution_count": 6,
   "metadata": {},
   "outputs": [
    {
     "name": "stderr",
     "output_type": "stream",
     "text": [
      "C:\\Users\\oscar\\AppData\\Local\\Temp\\ipykernel_25588\\3294993672.py:1: DtypeWarning: Columns (10) have mixed types. Specify dtype option on import or set low_memory=False.\n",
      "  data_movies=pd.read_csv('..\\datasets\\movies_dataset.csv',encoding='UTF-8',sep=',')\n"
     ]
    }
   ],
   "source": [
    "data_movies=pd.read_csv('..\\datasets\\movies_dataset.csv',encoding='UTF-8',sep=',')"
   ]
  },
  {
   "cell_type": "code",
   "execution_count": 7,
   "metadata": {},
   "outputs": [],
   "source": [
    "data_credits=pd.read_csv('..\\datasets\\credits.csv',encoding='UTF-8',sep=',')"
   ]
  },
  {
   "cell_type": "code",
   "execution_count": null,
   "metadata": {},
   "outputs": [],
   "source": [
    "data_movies.head(2)\n",
    "#data_movies.columns"
   ]
  },
  {
   "cell_type": "code",
   "execution_count": null,
   "metadata": {},
   "outputs": [],
   "source": [
    "data_credits.head(2)\n",
    "#data_credits.columns"
   ]
  },
  {
   "cell_type": "code",
   "execution_count": null,
   "metadata": {},
   "outputs": [],
   "source": [
    "#data_movies.info()\n",
    "data_credits.info()"
   ]
  },
  {
   "cell_type": "code",
   "execution_count": null,
   "metadata": {},
   "outputs": [],
   "source": [
    "#data_movies['id'].unique()\n",
    "print(\"id:\",data_movies['id'].describe())"
   ]
  },
  {
   "cell_type": "code",
   "execution_count": null,
   "metadata": {},
   "outputs": [],
   "source": [
    "null_counts =data_movies['id'].isna().sum()\n",
    "null_counts"
   ]
  },
  {
   "cell_type": "markdown",
   "metadata": {},
   "source": [
    "# Variables Númericas"
   ]
  },
  {
   "cell_type": "code",
   "execution_count": null,
   "metadata": {},
   "outputs": [],
   "source": [
    "data_movies\n",
    "data_movies.hist(bins=30, figsize=(20, 15), layout=(4, 5))\n",
    "plt.suptitle('Histogramas de Variables Numéricas')\n",
    "plt.show()"
   ]
  },
  {
   "cell_type": "markdown",
   "metadata": {},
   "source": [
    "Podemos observar que tenemos 19 variables númericas de las cuales 10 son identificadores los cuales no nos proporcionas alguna medida en concreto solo elseun id\n",
    "\n",
    "De budget podemos apreciar que muy pocas peliculas cuentan con un presupuesto de  mas de 100 000 000\n",
    "En Popularidad todas caen en un rango pequeño de valores\n",
    "Existen observaciones desde 1920 a 2020\n",
    "son muy pocas peliculas que tuvieron una recaudación por mas de 100 000 000\n",
    "Más de 30 000 peliculas duran aproximadamente 2 horas"
   ]
  },
  {
   "cell_type": "markdown",
   "metadata": {},
   "source": [
    "# Variables Categóricas"
   ]
  },
  {
   "cell_type": "code",
   "execution_count": null,
   "metadata": {},
   "outputs": [],
   "source": [
    "categorical_columns = data_movies.select_dtypes(include=['object']).columns\n",
    "\n",
    "for col in categorical_columns:\n",
    "    plt.figure(figsize=(5, 3))\n",
    "    sns.countplot(data_movies[col], order=data_movies[col].value_counts().index)\n",
    "    plt.title(f'Frecuencia de {col}')\n",
    "    plt.xticks(rotation=45)\n",
    "    plt.show()"
   ]
  },
  {
   "cell_type": "markdown",
   "metadata": {},
   "source": [
    "-Mas de 32 000 peliculas son en un solo idioma y son en inglés\n",
    "\n",
    "-Mas de 40 000 estan en status Released lo cual indica que hay una version de pelicula\n",
    "\n",
    "-Casi el 50% de peliculas son de Drama y Comedia\n",
    "\n",
    "-Podemos ver que la columna de genero0_ nos puede ayudar en la primer versión del sistema de recomendaciones"
   ]
  },
  {
   "cell_type": "markdown",
   "metadata": {},
   "source": [
    "### Valores atipicos"
   ]
  },
  {
   "cell_type": "code",
   "execution_count": null,
   "metadata": {},
   "outputs": [],
   "source": [
    "plt.figure(figsize=(2, 2))\n",
    "plt.boxplot(data_movies['popularity'])\n",
    "plt.title(\"Boxplot de valores\")\n",
    "plt.ylabel(\"Valores\")\n",
    "plt.show()"
   ]
  },
  {
   "cell_type": "code",
   "execution_count": null,
   "metadata": {},
   "outputs": [],
   "source": [
    "plt.figure(figsize=(2, 2))\n",
    "plt.boxplot(data_movies['revenue'])\n",
    "plt.title(\"Boxplot de valores\")\n",
    "plt.ylabel(\"Valores\")\n",
    "plt.show()"
   ]
  },
  {
   "cell_type": "code",
   "execution_count": null,
   "metadata": {},
   "outputs": [],
   "source": [
    "plt.figure(figsize=(2,2))\n",
    "plt.boxplot(data_movies['vote_average'])\n",
    "plt.title(\"Boxplot de valores\")\n",
    "plt.ylabel(\"Valores\")\n",
    "plt.show()"
   ]
  },
  {
   "cell_type": "code",
   "execution_count": null,
   "metadata": {},
   "outputs": [],
   "source": [
    "plt.figure(figsize=(2,2))\n",
    "plt.boxplot(data_movies['vote_count'])\n",
    "plt.title(\"Boxplot de valores\")\n",
    "plt.ylabel(\"Valores\")\n",
    "plt.show()"
   ]
  },
  {
   "cell_type": "markdown",
   "metadata": {},
   "source": [
    "WordCloud"
   ]
  },
  {
   "cell_type": "code",
   "execution_count": null,
   "metadata": {},
   "outputs": [],
   "source": [
    "from wordcloud import WordCloud"
   ]
  },
  {
   "cell_type": "code",
   "execution_count": null,
   "metadata": {},
   "outputs": [],
   "source": [
    "x=data_movies.loc[data_movies['overview']!='']\n",
    "primer_valor = x['overview'].iloc[0]\n",
    "x"
   ]
  },
  {
   "cell_type": "code",
   "execution_count": null,
   "metadata": {},
   "outputs": [],
   "source": [
    "campo_texto =x['overview']\n",
    "campo_texto=campo_texto.dropna()"
   ]
  },
  {
   "cell_type": "code",
   "execution_count": null,
   "metadata": {},
   "outputs": [],
   "source": [
    "# Paso 2: Concatenar todos los textos en una sola cadena\n",
    "texto_completo = \" \".join(campo_texto)"
   ]
  },
  {
   "cell_type": "code",
   "execution_count": null,
   "metadata": {},
   "outputs": [],
   "source": [
    "\n",
    "# Crear el objeto WordCloud\n",
    "wordcloud = WordCloud(width=800, height=400, background_color='white').generate(texto_completo)\n",
    "\n",
    "# Mostrar la nube de palabras usando matplotlib\n",
    "plt.figure(figsize=(10, 6))\n",
    "plt.imshow(wordcloud, interpolation='bilinear')\n",
    "plt.axis('off')\n",
    "plt.title('Nube de Palabras - Overview')\n",
    "plt.show()"
   ]
  },
  {
   "cell_type": "markdown",
   "metadata": {},
   "source": [
    "Como podemos ver la palabra que mas se repite es life , find , love, one Family por lo que podemos ver que corroboramos que la mayoria de peliculas son de drama y comedia"
   ]
  },
  {
   "cell_type": "code",
   "execution_count": 21,
   "metadata": {},
   "outputs": [
    {
     "data": {
      "text/plain": [
       "popularity\n",
       "0.000000      30\n",
       "0.000001      38\n",
       "0.000002       5\n",
       "0.000003       4\n",
       "0.000004       4\n",
       "              ..\n",
       "185.330992     1\n",
       "187.860492     1\n",
       "213.849907     1\n",
       "228.032744     1\n",
       "547.488298     1\n",
       "Name: original_title, Length: 29508, dtype: int64"
      ]
     },
     "execution_count": 21,
     "metadata": {},
     "output_type": "execute_result"
    }
   ],
   "source": [
    "peliculas.groupby(['popularity'])['original_title'].count()"
   ]
  },
  {
   "cell_type": "code",
   "execution_count": 22,
   "metadata": {},
   "outputs": [
    {
     "data": {
      "text/plain": [
       "año\n",
       "1878       1\n",
       "1883       1\n",
       "1890       2\n",
       "1891       1\n",
       "1892       2\n",
       "        ... \n",
       "2015    1186\n",
       "2016    1000\n",
       "2017     373\n",
       "2018       5\n",
       "2020       1\n",
       "Name: original_title, Length: 130, dtype: int64"
      ]
     },
     "execution_count": 22,
     "metadata": {},
     "output_type": "execute_result"
    }
   ],
   "source": [
    "peliculas.groupby(['año'])['original_title'].count()"
   ]
  },
  {
   "cell_type": "code",
   "execution_count": 27,
   "metadata": {},
   "outputs": [
    {
     "data": {
      "text/plain": [
       "original_title\n",
       "!Women Art Revolution    1\n",
       "#1 Cheerleader Camp      1\n",
       "#chicagoGirl             1\n",
       "$ Dollars                1\n",
       "$5 a Day                 1\n",
       "                        ..\n",
       "전설의 주먹                   1\n",
       "좋은 친구들                   1\n",
       "카페 느와르                   1\n",
       "태풍                       1\n",
       "포화 속으로                   1\n",
       "Name: vote_count, Length: 30357, dtype: int64"
      ]
     },
     "execution_count": 27,
     "metadata": {},
     "output_type": "execute_result"
    }
   ],
   "source": [
    "peliculas.groupby(['original_title'])['vote_count'].count()"
   ]
  }
 ],
 "metadata": {
  "kernelspec": {
   "display_name": ".venv",
   "language": "python",
   "name": "python3"
  },
  "language_info": {
   "codemirror_mode": {
    "name": "ipython",
    "version": 3
   },
   "file_extension": ".py",
   "mimetype": "text/x-python",
   "name": "python",
   "nbconvert_exporter": "python",
   "pygments_lexer": "ipython3",
   "version": "3.10.0"
  }
 },
 "nbformat": 4,
 "nbformat_minor": 2
}
